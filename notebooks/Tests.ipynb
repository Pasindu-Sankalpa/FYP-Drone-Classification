{
 "cells": [
  {
   "cell_type": "code",
   "execution_count": 12,
   "metadata": {},
   "outputs": [
    {
     "ename": "ImportError",
     "evalue": "attempted relative import with no known parent package",
     "output_type": "error",
     "traceback": [
      "\u001b[0;31m---------------------------------------------------------------------------\u001b[0m",
      "\u001b[0;31mImportError\u001b[0m                               Traceback (most recent call last)",
      "Cell \u001b[0;32mIn[12], line 1\u001b[0m\n\u001b[0;32m----> 1\u001b[0m \u001b[38;5;28;01mfrom\u001b[39;00m \u001b[38;5;21;01m.\u001b[39;00m\u001b[38;5;21;01m.\u001b[39;00m\u001b[38;5;21;01mLibs\u001b[39;00m \u001b[38;5;28;01mimport\u001b[39;00m \u001b[38;5;241m*\u001b[39m\n\u001b[1;32m      2\u001b[0m \u001b[38;5;28;01mfrom\u001b[39;00m \u001b[38;5;21;01m.\u001b[39;00m\u001b[38;5;21;01m.\u001b[39;00m\u001b[38;5;21;01mModel\u001b[39;00m \u001b[38;5;28;01mimport\u001b[39;00m DetectionModel\n\u001b[1;32m      3\u001b[0m \u001b[38;5;28;01mfrom\u001b[39;00m \u001b[38;5;21;01m.\u001b[39;00m\u001b[38;5;21;01m.\u001b[39;00m\u001b[38;5;21;01mDataSet\u001b[39;00m \u001b[38;5;28;01mimport\u001b[39;00m DetectionDataSet\n",
      "\u001b[0;31mImportError\u001b[0m: attempted relative import with no known parent package"
     ]
    }
   ],
   "source": [
    "from ..Libs import *\n",
    "from ..Model import DetectionModel\n",
    "from ..DataSet import DetectionDataSet\n",
    "\n",
    "device = \"cuda\" if torch.cuda.is_available() else \"cpu\""
   ]
  },
  {
   "cell_type": "code",
   "execution_count": 2,
   "metadata": {},
   "outputs": [
    {
     "name": "stdout",
     "output_type": "stream",
     "text": [
      "{0: 6141, 1: 6144}\n"
     ]
    }
   ],
   "source": [
    "model = DetectionModel().to(device=device)\n",
    "criterion = nn.CrossEntropyLoss(reduction=\"none\", weight=torch.tensor((0, 1), dtype=torch.float).to(device))\n",
    "dataset = DetectionDataSet(verbose=True)\n",
    "train_set = DataLoader(dataset, batch_size=2, shuffle=True)"
   ]
  },
  {
   "cell_type": "code",
   "execution_count": 6,
   "metadata": {},
   "outputs": [
    {
     "name": "stdout",
     "output_type": "stream",
     "text": [
      "tensor([1., 0.], device='cuda:0')\n",
      "tensor([0.4319, 0.0000], device='cuda:0', grad_fn=<NllLossBackward0>)\n",
      "tensor(0.2160, device='cuda:0', grad_fn=<MeanBackward0>)\n",
      "0.4319199323654175\n"
     ]
    }
   ],
   "source": [
    "for X1, X2, X3, y in train_set:\n",
    "    y = y.to(device)\n",
    "    outputs = model(X1.to(device), X2.to(device), X3.to(device))\n",
    "    \n",
    "    _, pred = torch.max(outputs, dim=1)\n",
    "    loss = criterion(outputs, y.long())\n",
    "\n",
    "    print(y)\n",
    "    print(loss)\n",
    "    print(torch.mean(loss))\n",
    "\n",
    "    loss = torch.sum(y*loss).item()\n",
    "\n",
    "    print(loss)\n",
    "\n",
    "    # weighted_loss = torch.mean(loss*pred)\n",
    "    # weighted_loss.backward()\n",
    "    break"
   ]
  },
  {
   "cell_type": "code",
   "execution_count": null,
   "metadata": {},
   "outputs": [],
   "source": []
  }
 ],
 "metadata": {
  "kernelspec": {
   "display_name": "drone",
   "language": "python",
   "name": "python3"
  },
  "language_info": {
   "codemirror_mode": {
    "name": "ipython",
    "version": 3
   },
   "file_extension": ".py",
   "mimetype": "text/x-python",
   "name": "python",
   "nbconvert_exporter": "python",
   "pygments_lexer": "ipython3",
   "version": "3.11.5"
  }
 },
 "nbformat": 4,
 "nbformat_minor": 2
}
