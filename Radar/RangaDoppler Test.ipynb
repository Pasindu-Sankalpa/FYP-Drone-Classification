{
 "cells": [
  {
   "cell_type": "code",
   "execution_count": 25,
   "metadata": {},
   "outputs": [],
   "source": [
    "import os\n",
    "import mat73\n",
    "import numpy as np\n",
    "import matplotlib.pyplot as plt\n",
    "from scipy.signal import butter,filtfilt"
   ]
  },
  {
   "cell_type": "code",
   "execution_count": 26,
   "metadata": {},
   "outputs": [],
   "source": [
    "rawADC = mat73.loadmat(\"PostProc_22_1/adcData.mat\")\n",
    "\n",
    "dim = rawADC[\"adcRawData\"][\"dim\"]\n",
    "data = np.array(rawADC[\"adcRawData\"][\"data\"], dtype=np.uint16)\n",
    "rfParams = rawADC[\"adcRawData\"][\"rfParams\"]"
   ]
  },
  {
   "cell_type": "code",
   "execution_count": 27,
   "metadata": {},
   "outputs": [
    {
     "data": {
      "text/plain": [
       "{'numChirpsPerFrame': array(128.),\n",
       " 'numFrames': array(128.),\n",
       " 'numRxChan': array(4.),\n",
       " 'numSamples': array(256.)}"
      ]
     },
     "execution_count": 27,
     "metadata": {},
     "output_type": "execute_result"
    }
   ],
   "source": [
    "dim"
   ]
  },
  {
   "cell_type": "code",
   "execution_count": 28,
   "metadata": {},
   "outputs": [
    {
     "data": {
      "text/plain": [
       "{'bandwidth': array(0.76753921),\n",
       " 'dopplerResolutionMps': array(0.09511972),\n",
       " 'framePeriodicity': array(40.),\n",
       " 'freqSlope': array(29.98200035),\n",
       " 'numDopplerBins': array(128.),\n",
       " 'numRangeBins': array(256.),\n",
       " 'rangeResolutionsInMeters': array(0.19542976),\n",
       " 'sampleRate': array(10.),\n",
       " 'startFreq': array(77.)}"
      ]
     },
     "execution_count": 28,
     "metadata": {},
     "output_type": "execute_result"
    }
   ],
   "source": [
    "rfParams"
   ]
  },
  {
   "cell_type": "code",
   "execution_count": 29,
   "metadata": {},
   "outputs": [
    {
     "data": {
      "text/plain": [
       "<matplotlib.image.AxesImage at 0x7f71d8734d90>"
      ]
     },
     "execution_count": 29,
     "metadata": {},
     "output_type": "execute_result"
    },
    {
     "data": {
      "image/png": "[encoded data removed]",
      "text/plain": [
       "<Figure size 432x288 with 1 Axes>"
      ]
     },
     "metadata": {
      "needs_background": "light"
     },
     "output_type": "display_data"
    }
   ],
   "source": [
    "data = data.reshape((128, 128, 256, 8))[:, :, :, [0, 4]]\n",
    "data = data - (data>=np.power(2, 15))*np.power(2, 16)\n",
    "beat = (data[:, :, :, 0] + 1j*data[:, :, :, 1]).astype(np.complex64)\n",
    "range = np.fft.fft(beat, axis=2)\n",
    "doppler = np.fft.fft(range, axis=1)\n",
    "doppler = np.abs(doppler)\n",
    "doppler = np.uint8((doppler-np.min(doppler))/(np.max(doppler)-np.min(doppler))*255)\n",
    "plt.imshow(doppler[0])"
   ]
  },
  {
   "cell_type": "code",
   "execution_count": 32,
   "metadata": {},
   "outputs": [
    {
     "data": {
      "text/plain": [
       "(128, 256)"
      ]
     },
     "execution_count": 32,
     "metadata": {},
     "output_type": "execute_result"
    }
   ],
   "source": [
    "doppler[0].shape"
   ]
  },
  {
   "cell_type": "code",
   "execution_count": null,
   "metadata": {},
   "outputs": [],
   "source": []
  }
 ],
 "metadata": {
  "kernelspec": {
   "display_name": "work",
   "language": "python",
   "name": "python3"
  },
  "language_info": {
   "codemirror_mode": {
    "name": "ipython",
    "version": 3
   },
   "file_extension": ".py",
   "mimetype": "text/x-python",
   "name": "python",
   "nbconvert_exporter": "python",
   "pygments_lexer": "ipython3",
   "version": "3.9.17"
  }
 },
 "nbformat": 4,
 "nbformat_minor": 2
}
