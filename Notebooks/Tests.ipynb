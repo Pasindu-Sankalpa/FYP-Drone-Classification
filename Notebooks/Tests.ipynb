{
 "cells": [
  {
   "cell_type": "code",
   "execution_count": 9,
   "metadata": {},
   "outputs": [],
   "source": [
    "from Libs import *\n",
    "from Model import Model\n",
    "from DataSet import DataSet\n",
    "\n",
    "device = \"cuda\" if torch.cuda.is_available() else \"cpu\""
   ]
  },
  {
   "cell_type": "code",
   "execution_count": 10,
   "metadata": {},
   "outputs": [],
   "source": [
    "model = Model().to(device=device)\n",
    "criterion = nn.CrossEntropyLoss(reduction=\"none\")\n",
    "dataset = DataSet()\n",
    "train_set = DataLoader(dataset, batch_size=8, shuffle=True)"
   ]
  },
  {
   "cell_type": "code",
   "execution_count": 11,
   "metadata": {},
   "outputs": [],
   "source": [
    "for X1, X2, X3, y in train_set:\n",
    "    outputs = model(X1.to(device), X2.to(device), X3.to(device))\n",
    "    \n",
    "    _, pred = torch.max(outputs, dim=1)\n",
    "    loss = criterion(outputs, y.to(device).long())\n",
    "\n",
    "    weighted_loss = torch.mean(loss*pred)\n",
    "    weighted_loss.backward()\n",
    "    break"
   ]
  }
 ],
 "metadata": {
  "kernelspec": {
   "display_name": "drone",
   "language": "python",
   "name": "python3"
  },
  "language_info": {
   "codemirror_mode": {
    "name": "ipython",
    "version": 3
   },
   "file_extension": ".py",
   "mimetype": "text/x-python",
   "name": "python",
   "nbconvert_exporter": "python",
   "pygments_lexer": "ipython3",
   "version": "3.11.5"
  }
 },
 "nbformat": 4,
 "nbformat_minor": 2
}
