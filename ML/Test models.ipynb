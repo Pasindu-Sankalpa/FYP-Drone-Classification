{
 "cells": [
  {
   "cell_type": "code",
   "execution_count": 1,
   "metadata": {},
   "outputs": [],
   "source": [
    "from Libs import *"
   ]
  },
  {
   "cell_type": "code",
   "execution_count": 2,
   "metadata": {},
   "outputs": [],
   "source": [
    "class SqueezeLayer(nn.Module):\n",
    "    def __init__(self, dim=1):\n",
    "        super(SqueezeLayer, self).__init__()\n",
    "        self.dim = dim\n",
    "\n",
    "    def forward(self, x):\n",
    "        return torch.squeeze(x, dim=self.dim)\n",
    "    \n",
    "class UnsqueezeLayer(nn.Module):\n",
    "    def __init__(self, dim=(1,)):\n",
    "        super(UnsqueezeLayer, self).__init__()\n",
    "        self.dim = dim\n",
    "\n",
    "    def forward(self, x):\n",
    "        for d in self.dim:\n",
    "            x = torch.unsqueeze(x, dim=d)\n",
    "        return x"
   ]
  },
  {
   "cell_type": "code",
   "execution_count": 3,
   "metadata": {},
   "outputs": [
    {
     "data": {
      "text/plain": [
       "torch.Size([32, 128])"
      ]
     },
     "execution_count": 3,
     "metadata": {},
     "output_type": "execute_result"
    }
   ],
   "source": [
    "class SEModule1d(nn.Module):\n",
    "    def __init__(self, in_channels, reduction=16):\n",
    "        super(SEModule1d, self).__init__()\n",
    "        self.se = nn.Sequential(nn.AdaptiveAvgPool1d((1)),\n",
    "                                SqueezeLayer(dim=(2,)),\n",
    "                                nn.Linear(in_channels, in_channels//reduction),\n",
    "                                nn.ReLU(),\n",
    "                                nn.Linear(in_channels//reduction, in_channels),\n",
    "                                nn.Sigmoid(),\n",
    "                                UnsqueezeLayer(dim=(2,)))\n",
    "\n",
    "    def forward(self, input):\n",
    "        return input*self.se(input)\n",
    "\n",
    "class SEResBlock1d(nn.Module):\n",
    "    def __init__(self, in_channels, upsample=False, kernel_size=7, dropout=0.4):\n",
    "        super(SEResBlock1d, self).__init__()\n",
    "        if upsample:\n",
    "            out_channels = in_channels*2\n",
    "            self.identity = nn.Sequential(nn.Conv1d(in_channels, out_channels, kernel_size=1), \n",
    "                                          nn.BatchNorm1d(out_channels))\n",
    "        else:\n",
    "            out_channels = in_channels\n",
    "            self.identity = nn.Identity()\n",
    "        \n",
    "        self.convs = nn.Sequential(nn.Conv1d(in_channels, out_channels, kernel_size=kernel_size, padding=\"same\"), \n",
    "                                   nn.BatchNorm1d(out_channels), \n",
    "                                   nn.ReLU(), \n",
    "                                   nn.Dropout(dropout), \n",
    "                                   nn.Conv1d(out_channels, out_channels, kernel_size=kernel_size, padding=\"same\"), \n",
    "                                   nn.BatchNorm1d(out_channels), \n",
    "                                   SEModule1d(out_channels))\n",
    "        self.act_fn = nn.ReLU()\n",
    "\n",
    "    def forward(self, input):\n",
    "        return self.act_fn(self.convs(input) + self.identity(input))\n",
    "\n",
    "class SEResNet1d(nn.Module):\n",
    "    def __init__(self, base_channels=64, kernel_size=7, downsample=True):\n",
    "        super(SEResNet1d, self).__init__()\n",
    "        if downsample:\n",
    "            self.seresnet = nn.Sequential(UnsqueezeLayer(dim=(1,)),\n",
    "                                          nn.Conv1d(1, base_channels, kernel_size=15, padding=7, stride=2), \n",
    "                                          nn.BatchNorm1d(base_channels), \n",
    "                                          nn.ReLU(), \n",
    "                                          nn.MaxPool1d(kernel_size=3, padding=1, stride=2),\n",
    "                                          SEResBlock1d(base_channels, kernel_size=kernel_size), \n",
    "                                          SEResBlock1d(base_channels, kernel_size=kernel_size),\n",
    "                                          SEResBlock1d(base_channels, upsample=True, kernel_size=kernel_size), \n",
    "                                          SEResBlock1d(base_channels*2, kernel_size=kernel_size),\n",
    "                                          SEResBlock1d(base_channels*2, kernel_size=kernel_size),\n",
    "                                          nn.AdaptiveAvgPool1d(1),\n",
    "                                          SqueezeLayer(dim=2))\n",
    "        else:\n",
    "            self.seresnet = nn.Sequential(UnsqueezeLayer(dim=(1,)),\n",
    "                                          nn.Conv1d(1, base_channels, kernel_size=1), \n",
    "                                          SEResBlock1d(base_channels, kernel_size=kernel_size), \n",
    "                                          SEResBlock1d(base_channels, kernel_size=kernel_size),\n",
    "                                          SEResBlock1d(base_channels, upsample=True, kernel_size=kernel_size), \n",
    "                                          SEResBlock1d(base_channels*2, kernel_size=kernel_size),\n",
    "                                          SEResBlock1d(base_channels*2, kernel_size=kernel_size),\n",
    "                                          nn.AdaptiveAvgPool1d(1),\n",
    "                                          SqueezeLayer(dim=2))\n",
    "  \n",
    "    def forward(self, input):\n",
    "        return self.seresnet(input)\n",
    "    \n",
    "dummy = torch.rand((32, 1024))\n",
    "\n",
    "model = SEResNet1d(downsample=True)\n",
    "dummy_out = model(dummy)\n",
    "\n",
    "dummy_out.shape"
   ]
  },
  {
   "cell_type": "code",
   "execution_count": 4,
   "metadata": {},
   "outputs": [
    {
     "data": {
      "text/plain": [
       "torch.Size([32, 128])"
      ]
     },
     "execution_count": 4,
     "metadata": {},
     "output_type": "execute_result"
    }
   ],
   "source": [
    "class SEModule2d(nn.Module):\n",
    "    def __init__(self, in_channels, reduction=16):\n",
    "        super(SEModule2d, self).__init__()\n",
    "        self.se = nn.Sequential(nn.AdaptiveAvgPool2d((1, 1)),\n",
    "                                SqueezeLayer(dim=(2, 3)),\n",
    "                                nn.Linear(in_channels, in_channels//reduction),\n",
    "                                nn.ReLU(),\n",
    "                                nn.Linear(in_channels//reduction, in_channels),\n",
    "                                nn.Sigmoid(),\n",
    "                                UnsqueezeLayer(dim=(2, 3)))\n",
    "\n",
    "    def forward(self, input):\n",
    "        return input*self.se(input)\n",
    "    \n",
    "class SEResBlock2d(nn.Module):\n",
    "    def __init__(self, in_channels, upsample=False, kernel_size=7, dropout=0.4):\n",
    "        super(SEResBlock2d, self).__init__()\n",
    "        if upsample:\n",
    "            out_channels = in_channels*upsample\n",
    "            self.identity = nn.Sequential(nn.Conv2d(in_channels, out_channels, kernel_size=1), \n",
    "                                          nn.BatchNorm2d(out_channels))\n",
    "        else:\n",
    "            out_channels = in_channels\n",
    "            self.identity = nn.Identity()\n",
    "        \n",
    "        self.convs = nn.Sequential(nn.Conv2d(in_channels, out_channels, kernel_size=kernel_size, padding=\"same\"), \n",
    "                                   nn.BatchNorm2d(out_channels), \n",
    "                                   nn.ReLU(), \n",
    "                                   nn.Dropout(dropout), \n",
    "                                   nn.Conv2d(out_channels, out_channels, kernel_size=kernel_size, padding=\"same\"), \n",
    "                                   nn.BatchNorm2d(out_channels), \n",
    "                                   SEModule2d(out_channels))\n",
    "        self.act_fn = nn.ReLU()\n",
    "\n",
    "    def forward(self, input):\n",
    "        return self.act_fn(self.convs(input) + self.identity(input))\n",
    "\n",
    "class SEResNet2d(nn.Module):\n",
    "    def __init__(self):\n",
    "        super(SEResNet2d, self).__init__()\n",
    "        self.seresnet = nn.Sequential(UnsqueezeLayer(dim=(1,)),\n",
    "                                      SEResBlock2d(1, upsample=4, kernel_size=3), \n",
    "                                      SEResBlock2d(4, upsample=4, kernel_size=3),\n",
    "                                      SEResBlock2d(16, upsample=4, kernel_size=5), \n",
    "                                      SEResBlock2d(64, upsample=2, kernel_size=7),\n",
    "                                      nn.AdaptiveAvgPool2d(1),\n",
    "                                      SqueezeLayer(dim=(2, 3)))\n",
    "\n",
    "    def forward(self, input):\n",
    "        return self.seresnet(input)\n",
    "\n",
    "dummy = torch.rand((32, 64, 32))\n",
    "\n",
    "model = SEResNet2d()\n",
    "dummy_out = model(dummy)\n",
    "\n",
    "dummy_out.shape"
   ]
  },
  {
   "cell_type": "code",
   "execution_count": 5,
   "metadata": {},
   "outputs": [
    {
     "name": "stdout",
     "output_type": "stream",
     "text": [
      "Acoustic feature vector shape torch.Size([8, 128])\n",
      "RCS feature vector shape torch.Size([8, 128])\n",
      "Doppler feature vector shape torch.Size([8, 128])\n",
      "Stacked feature matrix shape torch.Size([8, 4, 128])\n",
      "Transformer output matrix shape torch.Size([8, 4, 128])\n",
      "Classification output matrix shape torch.Size([8, 2])\n"
     ]
    }
   ],
   "source": [
    "class Model(nn.Module):\n",
    "    def __init__(self, base_channels=64, num_classes=2):\n",
    "        super(Model, self).__init__()\n",
    "\n",
    "        self.acoustic_encoder_1 = SEResNet1d(base_channels, kernel_size=7, downsample=True)\n",
    "        self.acoustic_encoder_2 = SEResNet1d(base_channels, kernel_size=107, downsample=True)\n",
    "        self.rcs_encoder = SEResNet1d(base_channels, kernel_size=7, downsample=False)\n",
    "        self.doppler_encoder = SEResNet2d()\n",
    "        encoder_layer = nn.TransformerEncoderLayer(d_model=128, nhead=8)\n",
    "        self.transformer_encoder = nn.TransformerEncoder(encoder_layer, num_layers=1)\n",
    "        self.classifier = nn.Linear(128, num_classes)\n",
    "\n",
    "    def forward(self, audio, rcs, doppler):  \n",
    "        acoustic_encoded = torch.sum(torch.stack([self.acoustic_encoder_1(audio), \n",
    "                                                  self.acoustic_encoder_2(audio)\n",
    "                                                  ], dim = 1), dim = 1)\n",
    "        rcs_encoded = self.rcs_encoder(rcs)\n",
    "        doppler_encoded = self.doppler_encoder(doppler)\n",
    "\n",
    "        stacked_features = torch.stack((torch.ones((8, 128)), acoustic_encoded, rcs_encoded, doppler_encoded), dim=1)\n",
    "\n",
    "        combined_features = self.transformer_encoder(stacked_features)\n",
    "\n",
    "        output = self.classifier(combined_features[:, 0, :])\n",
    "\n",
    "        print(\"Acoustic feature vector shape\", acoustic_encoded.shape)\n",
    "        print(\"RCS feature vector shape\", rcs_encoded.shape)\n",
    "        print(\"Doppler feature vector shape\", doppler_encoded.shape)\n",
    "        print(\"Stacked feature matrix shape\", stacked_features.shape)\n",
    "        print(\"Transformer output matrix shape\", combined_features.shape)\n",
    "        print(\"Classification output matrix shape\", output.shape)\n",
    "\n",
    "        return output\n",
    "\n",
    "batch_size = 8\n",
    "audio = torch.rand((batch_size, 512))\n",
    "rcs = torch.rand((batch_size, 64))\n",
    "doppler = torch.rand((batch_size, 64, 32))\n",
    "model = Model()\n",
    "\n",
    "out = model(audio, rcs, doppler)"
   ]
  },
  {
   "cell_type": "code",
   "execution_count": 6,
   "metadata": {},
   "outputs": [
    {
     "name": "stdout",
     "output_type": "stream",
     "text": [
      "14.0 M\n"
     ]
    }
   ],
   "source": [
    "print(sum(p.numel() for p in model.parameters() if p.requires_grad)//1e6, \"M\")"
   ]
  },
  {
   "cell_type": "code",
   "execution_count": null,
   "metadata": {},
   "outputs": [],
   "source": []
  }
 ],
 "metadata": {
  "kernelspec": {
   "display_name": "work",
   "language": "python",
   "name": "python3"
  },
  "language_info": {
   "codemirror_mode": {
    "name": "ipython",
    "version": 3
   },
   "file_extension": ".py",
   "mimetype": "text/x-python",
   "name": "python",
   "nbconvert_exporter": "python",
   "pygments_lexer": "ipython3",
   "version": "3.9.17"
  }
 },
 "nbformat": 4,
 "nbformat_minor": 2
}
