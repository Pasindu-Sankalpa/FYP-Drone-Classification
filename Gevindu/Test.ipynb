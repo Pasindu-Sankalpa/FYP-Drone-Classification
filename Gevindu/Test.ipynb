{
 "cells": [
  {
   "cell_type": "code",
   "execution_count": 1,
   "metadata": {},
   "outputs": [],
   "source": [
    "from Libs import *"
   ]
  },
  {
   "cell_type": "code",
   "execution_count": 2,
   "metadata": {},
   "outputs": [],
   "source": [
    "class SqueezeLayer(nn.Module):\n",
    "    def __init__(self, dim=1):\n",
    "        super(SqueezeLayer, self).__init__()\n",
    "        self.dim = dim\n",
    "\n",
    "    def forward(self, x):\n",
    "        return torch.squeeze(x, dim=self.dim)\n",
    "    \n",
    "class UnsqueezeLayer(nn.Module):\n",
    "    def __init__(self, dim=(1,)):\n",
    "        super(UnsqueezeLayer, self).__init__()\n",
    "        self.dim = dim\n",
    "\n",
    "    def forward(self, x):\n",
    "        for d in self.dim:\n",
    "            x = torch.unsqueeze(x, dim=d)\n",
    "        return x"
   ]
  },
  {
   "cell_type": "code",
   "execution_count": 3,
   "metadata": {},
   "outputs": [
    {
     "data": {
      "text/plain": [
       "torch.Size([32, 128])"
      ]
     },
     "execution_count": 3,
     "metadata": {},
     "output_type": "execute_result"
    }
   ],
   "source": [
    "class SEModule1d(nn.Module):\n",
    "    def __init__(self, in_channels, reduction=16):\n",
    "        super(SEModule1d, self).__init__()\n",
    "        self.se = nn.Sequential(nn.AdaptiveAvgPool1d((1)),\n",
    "                                SqueezeLayer(dim=(2,)),\n",
    "                                nn.Linear(in_channels, in_channels//reduction),\n",
    "                                nn.ReLU(),\n",
    "                                nn.Linear(in_channels//reduction, in_channels),\n",
    "                                nn.Sigmoid(),\n",
    "                                UnsqueezeLayer(dim=(2,)))\n",
    "\n",
    "    def forward(self, input):\n",
    "        return input*self.se(input)\n",
    "\n",
    "class SEResBlock1d(nn.Module):\n",
    "    def __init__(self, in_channels, upsample=False, kernel_size=7, dropout=0.4):\n",
    "        super(SEResBlock1d, self).__init__()\n",
    "        if upsample:\n",
    "            out_channels = in_channels*2\n",
    "            self.identity = nn.Sequential(nn.Conv1d(in_channels, out_channels, kernel_size=1), \n",
    "                                          nn.BatchNorm1d(out_channels))\n",
    "        else:\n",
    "            out_channels = in_channels\n",
    "            self.identity = nn.Identity()\n",
    "        \n",
    "        self.convs = nn.Sequential(nn.Conv1d(in_channels, out_channels, kernel_size=kernel_size, padding=\"same\"), \n",
    "                                   nn.BatchNorm1d(out_channels), \n",
    "                                   nn.ReLU(), \n",
    "                                   nn.Dropout(dropout), \n",
    "                                   nn.Conv1d(out_channels, out_channels, kernel_size=kernel_size, padding=\"same\"), \n",
    "                                   nn.BatchNorm1d(out_channels), \n",
    "                                   SEModule1d(out_channels))\n",
    "        self.act_fn = nn.ReLU()\n",
    "\n",
    "    def forward(self, input):\n",
    "        return self.act_fn(self.convs(input) + self.identity(input))\n",
    "\n",
    "class SEResNet1d(nn.Module):\n",
    "    def __init__(self, base_channels=64, kernel_size=7, downsample=True):\n",
    "        super(SEResNet1d, self).__init__()\n",
    "        if downsample:\n",
    "            self.seresnet = nn.Sequential(nn.Conv1d(1, base_channels, kernel_size=15, padding=7, stride=2), \n",
    "                                          nn.BatchNorm1d(base_channels), \n",
    "                                          nn.ReLU(), \n",
    "                                          nn.MaxPool1d(kernel_size=3, padding=1, stride=2),\n",
    "                                          SEResBlock1d(base_channels, kernel_size=kernel_size), \n",
    "                                          SEResBlock1d(base_channels, kernel_size=kernel_size),\n",
    "                                          SEResBlock1d(base_channels, upsample=True, kernel_size=kernel_size), \n",
    "                                          SEResBlock1d(base_channels*2, kernel_size=kernel_size),\n",
    "                                          SEResBlock1d(base_channels*2, kernel_size=kernel_size),\n",
    "                                          nn.AdaptiveAvgPool1d(1),\n",
    "                                          SqueezeLayer(dim=2))\n",
    "        else:\n",
    "            self.seresnet = nn.Sequential(nn.Conv1d(1, base_channels, kernel_size=1), \n",
    "                                          SEResBlock1d(base_channels, kernel_size=kernel_size), \n",
    "                                          SEResBlock1d(base_channels, kernel_size=kernel_size),\n",
    "                                          SEResBlock1d(base_channels, upsample=True, kernel_size=kernel_size), \n",
    "                                          SEResBlock1d(base_channels*2, kernel_size=kernel_size),\n",
    "                                          SEResBlock1d(base_channels*2, kernel_size=kernel_size),\n",
    "                                          nn.AdaptiveAvgPool1d(1),\n",
    "                                          SqueezeLayer(dim=2))\n",
    "  \n",
    "    def forward(self, input):\n",
    "        return self.seresnet(input)\n",
    "    \n",
    "dummy = torch.rand((32, 1, 1024))\n",
    "\n",
    "model = SEResNet1d(downsample=True)\n",
    "dummy_out = model(dummy)\n",
    "\n",
    "dummy_out.shape"
   ]
  },
  {
   "cell_type": "code",
   "execution_count": 4,
   "metadata": {},
   "outputs": [
    {
     "data": {
      "text/plain": [
       "torch.Size([8, 128])"
      ]
     },
     "execution_count": 4,
     "metadata": {},
     "output_type": "execute_result"
    },
    {
     "ename": "",
     "evalue": "",
     "output_type": "error",
     "traceback": [
      "\u001b[1;31mThe Kernel crashed while executing code in the current cell or a previous cell. \n",
      "\u001b[1;31mPlease review the code in the cell(s) to identify a possible cause of the failure. \n",
      "\u001b[1;31mClick <a href='https://aka.ms/vscodeJupyterKernelCrash'>here</a> for more info. \n",
      "\u001b[1;31mView Jupyter <a href='command:jupyter.viewOutput'>log</a> for further details."
     ]
    }
   ],
   "source": [
    "class SEModule2d(nn.Module):\n",
    "    def __init__(self, in_channels, reduction=16):\n",
    "        super(SEModule2d, self).__init__()\n",
    "        self.se = nn.Sequential(nn.AdaptiveAvgPool2d((1, 1)),\n",
    "                                SqueezeLayer(dim=(2, 3)),\n",
    "                                nn.Linear(in_channels, in_channels//reduction),\n",
    "                                nn.ReLU(),\n",
    "                                nn.Linear(in_channels//reduction, in_channels),\n",
    "                                nn.Sigmoid(),\n",
    "                                UnsqueezeLayer(dim=(2, 3)))\n",
    "\n",
    "    def forward(self, input):\n",
    "        return input*self.se(input)\n",
    "    \n",
    "class SEResBlock2d(nn.Module):\n",
    "    def __init__(self, in_channels, upsample=False, kernel_size=7, dropout=0.4):\n",
    "        super(SEResBlock2d, self).__init__()\n",
    "        if upsample:\n",
    "            out_channels = in_channels*2\n",
    "            self.identity = nn.Sequential(nn.Conv2d(in_channels, out_channels, kernel_size=1), \n",
    "                                          nn.BatchNorm2d(out_channels))\n",
    "        else:\n",
    "            out_channels = in_channels\n",
    "            self.identity = nn.Identity()\n",
    "        \n",
    "        self.convs = nn.Sequential(nn.Conv2d(in_channels, out_channels, kernel_size=kernel_size, padding=\"same\"), \n",
    "                                   nn.BatchNorm2d(out_channels), \n",
    "                                   nn.ReLU(), \n",
    "                                   nn.Dropout(dropout), \n",
    "                                   nn.Conv2d(out_channels, out_channels, kernel_size=kernel_size, padding=\"same\"), \n",
    "                                   nn.BatchNorm2d(out_channels), \n",
    "                                   SEModule2d(out_channels))\n",
    "        self.act_fn = nn.ReLU()\n",
    "\n",
    "    def forward(self, input):\n",
    "        return self.act_fn(self.convs(input) + self.identity(input))\n",
    "\n",
    "class SEResNet2d(nn.Module):\n",
    "    def __init__(self, base_channels=64, kernel_size=7):\n",
    "        super(SEResNet2d, self).__init__()\n",
    "        self.seresnet = nn.Sequential(nn.Conv2d(1, base_channels, kernel_size=1), \n",
    "                                      SEResBlock2d(base_channels, kernel_size=kernel_size), \n",
    "                                      SEResBlock2d(base_channels, kernel_size=kernel_size),\n",
    "                                      SEResBlock2d(base_channels, upsample=True, kernel_size=kernel_size), \n",
    "                                      SEResBlock2d(base_channels*2, kernel_size=kernel_size),\n",
    "                                      SEResBlock2d(base_channels*2, kernel_size=kernel_size),\n",
    "                                      nn.AdaptiveAvgPool2d(1),\n",
    "                                      SqueezeLayer(dim=(2, 3)))\n",
    "\n",
    "    def forward(self, input):\n",
    "        return self.seresnet(input)\n",
    "\n",
    "dummy = torch.rand((8, 1, 256, 128))\n",
    "\n",
    "model = SEResNet2d()\n",
    "dummy_out = model(dummy)\n",
    "\n",
    "dummy_out.shape"
   ]
  },
  {
   "cell_type": "code",
   "execution_count": null,
   "metadata": {},
   "outputs": [],
   "source": []
  }
 ],
 "metadata": {
  "kernelspec": {
   "display_name": "work",
   "language": "python",
   "name": "python3"
  },
  "language_info": {
   "codemirror_mode": {
    "name": "ipython",
    "version": 3
   },
   "file_extension": ".py",
   "mimetype": "text/x-python",
   "name": "python",
   "nbconvert_exporter": "python",
   "pygments_lexer": "ipython3",
   "version": "3.9.17"
  }
 },
 "nbformat": 4,
 "nbformat_minor": 2
}
