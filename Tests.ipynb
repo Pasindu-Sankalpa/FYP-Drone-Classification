{
 "cells": [
  {
   "cell_type": "code",
   "execution_count": 2,
   "metadata": {},
   "outputs": [],
   "source": [
    "from Libs import *\n",
    "from Model import Model\n",
    "from DataSet import DataSet\n",
    "\n",
    "device = \"cuda\" if torch.cuda.is_available() else \"cpu\""
   ]
  },
  {
   "cell_type": "code",
   "execution_count": 2,
   "metadata": {},
   "outputs": [],
   "source": [
    "model = Model().to(device=device)\n",
    "criterion = nn.CrossEntropyLoss(reduction=\"none\")\n",
    "dataset = DataSet()\n",
    "train_set = DataLoader(dataset, batch_size=8, shuffle=True)"
   ]
  },
  {
   "cell_type": "code",
   "execution_count": 3,
   "metadata": {},
   "outputs": [
    {
     "name": "stdout",
     "output_type": "stream",
     "text": [
      "torch.Size([8, 128])\n"
     ]
    }
   ],
   "source": [
    "for X1, X2, X3, y in train_set:\n",
    "    outputs = model(X1.to(device), X2.to(device), X3.to(device))\n",
    "    _, pred = torch.max(outputs, dim=1)\n",
    "    loss = criterion(outputs, y.to(device).long())\n",
    "    normal_loss = torch.mean(loss)\n",
    "    # weighted_loss = torch.sum(loss*pred)/torch.sum(pred)\n",
    "    normal_loss.backward()\n",
    "    break"
   ]
  },
  {
   "cell_type": "code",
   "execution_count": 4,
   "metadata": {},
   "outputs": [],
   "source": [
    "embedding = nn.Embedding(1, 128)"
   ]
  },
  {
   "cell_type": "code",
   "execution_count": 7,
   "metadata": {},
   "outputs": [
    {
     "data": {
      "text/plain": [
       "torch.Size([10, 128])"
      ]
     },
     "execution_count": 7,
     "metadata": {},
     "output_type": "execute_result"
    },
    {
     "ename": "",
     "evalue": "",
     "output_type": "error",
     "traceback": [
      "\u001b[1;31mThe Kernel crashed while executing code in the current cell or a previous cell. \n",
      "\u001b[1;31mPlease review the code in the cell(s) to identify a possible cause of the failure. \n",
      "\u001b[1;31mClick <a href='https://aka.ms/vscodeJupyterKernelCrash'>here</a> for more info. \n",
      "\u001b[1;31mView Jupyter <a href='command:jupyter.viewOutput'>log</a> for further details."
     ]
    }
   ],
   "source": [
    "mini_batch = ((0,),) * 10\n",
    "\n",
    "input = torch.tensor(mini_batch)\n",
    "\n",
    "embeddings = embedding(input)\n",
    "\n",
    "embeddings.shape\n",
    "\n",
    "embeddings = torch.squeeze(embeddings, dim=1)\n",
    "\n",
    "embeddings.shape"
   ]
  }
 ],
 "metadata": {
  "kernelspec": {
   "display_name": "drone",
   "language": "python",
   "name": "python3"
  },
  "language_info": {
   "codemirror_mode": {
    "name": "ipython",
    "version": 3
   },
   "file_extension": ".py",
   "mimetype": "text/x-python",
   "name": "python",
   "nbconvert_exporter": "python",
   "pygments_lexer": "ipython3",
   "version": "3.11.5"
  }
 },
 "nbformat": 4,
 "nbformat_minor": 2
}
